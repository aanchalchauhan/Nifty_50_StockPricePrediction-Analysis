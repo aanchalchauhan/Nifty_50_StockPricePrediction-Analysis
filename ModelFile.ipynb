{
 "cells": [
  {
   "cell_type": "markdown",
   "id": "37ba5299",
   "metadata": {},
   "source": [
    "Connecting model to google sheet"
   ]
  },
  {
   "cell_type": "code",
   "execution_count": 1,
   "id": "37363696",
   "metadata": {},
   "outputs": [],
   "source": [
    "import time\n",
    "import gspread\n",
    "from oauth2client.service_account import ServiceAccountCredentials\n",
    "import pandas as pd\n",
    "import numpy as np"
   ]
  },
  {
   "cell_type": "code",
   "execution_count": 2,
   "id": "abefd09c",
   "metadata": {},
   "outputs": [],
   "source": [
    "scope = ['https://spreadsheets.google.com/feeds','https://www.googleapis.com/auth/drive']\n",
    "account = ServiceAccountCredentials.from_json_keyfile_name(\"nifty50-378307-4abc522375d9.json\",scope)\n",
    "access = gspread.authorize(account)"
   ]
  },
  {
   "cell_type": "markdown",
   "id": "4eabad12",
   "metadata": {},
   "source": [
    "Dropdown for Stock Price Predictions"
   ]
  },
  {
   "cell_type": "code",
   "execution_count": 3,
   "id": "66b8a008",
   "metadata": {},
   "outputs": [],
   "source": [
    "Symbol_li = [\"ADANIENT\", \"ADANIPORTS\", \"APOLLOHOSP\", \"ASIANPAINT\", \"AXISBANK\", \"BAJAJ-AUTO\", \"BAJFINANCE\", \"BAJAJFINSV\", \"BPCL\", \"BHARTIARTL\",\n",
    "        \"BRITANNIA\", \"CIPLA\", \"COALINDIA\", \"DIVISLAB\", \"DRREDDY\", \"EICHERMOT\", \"GRASIM\", \"HCLTECH\", \"HDFCBANK\", \"HDFCLIFE\",\n",
    "        \"HEROMOTOCO\", \"HINDALCO\", \"HINDUNILVR\", \"HDFC\", \"ICICIBANK\", \"ITC\", \"INDUSINDBK\", \"INFY\", \"JSWSTEEL\", \"KOTAKBANK\",\n",
    "        \"LT\", \"M&M\",\"MARUTI\",\"NTPC\",\"NESTLEIND\",\"ONGC\",\"POWERGRID\",\"RELIANCE\",\"SBILIFE\",\"SBIN\",\n",
    "        \"SUNPHARMA\",\"TCS\",\"TATACONSUM\",\"TATAMOTORS\",\"TATASTEEL\",\"TECHM\",\"TITAN\",\"UPL\",\"ULTRACEMCO\",\"WIPRO\"]"
   ]
  },
  {
   "cell_type": "code",
   "execution_count": 4,
   "id": "5f975c9b",
   "metadata": {},
   "outputs": [],
   "source": [
    "# stock=[]\n",
    "# for i in Symbol_li:\n",
    "#     stock.append({\"userEnteredValue\" : i})"
   ]
  },
  {
   "cell_type": "code",
   "execution_count": 5,
   "id": "97095d86",
   "metadata": {},
   "outputs": [],
   "source": [
    "# MAIN SPREADSHEET\n",
    "Project = access.open_by_url('https://docs.google.com/spreadsheets/d/1HulVAUOGck6-1QqrznFTs843iIRnDIqZ9icGgBiSz5Y/edit#gid=0')"
   ]
  },
  {
   "cell_type": "code",
   "execution_count": 6,
   "id": "7012a7fe",
   "metadata": {},
   "outputs": [],
   "source": [
    "# sheetName = \"Sheet1\" # Sheet_Name.\n",
    "# sheetId = Project.worksheet(sheetName).id # Extracting Sheet_ID\n",
    "# body = {\n",
    "#     \"requests\": [\n",
    "#         {\n",
    "#             \"updateCells\": {\n",
    "#                 \"range\": {\n",
    "#                     \"sheetId\": sheetId,\n",
    "#                     \"startRowIndex\": 3,\n",
    "#                     \"endRowIndex\": 4,\n",
    "#                     \"startColumnIndex\": 1,\n",
    "#                     \"endColumnIndex\": 2\n",
    "#                 },\n",
    "#                 \"rows\": [\n",
    "#                     {\n",
    "#                         \"values\": [\n",
    "#                             {\n",
    "#                                 \"dataValidation\": {\n",
    "#                                     \"condition\": {\n",
    "#                                         \"values\": stock,\n",
    "#                                         \"type\": \"ONE_OF_LIST\"\n",
    "#                                     },\n",
    "#                                     \"showCustomUi\": True\n",
    "#                                 }\n",
    "#                             }\n",
    "#                         ]\n",
    "#                     }\n",
    "#                 ],\n",
    "#                 \"fields\": \"dataValidation\"\n",
    "#             }\n",
    "#         }\n",
    "#     ]\n",
    "#  }\n",
    "# Project.batch_update(body)"
   ]
  },
  {
   "cell_type": "code",
   "execution_count": 7,
   "id": "724725ed",
   "metadata": {},
   "outputs": [
    {
     "data": {
      "text/plain": [
       "<Worksheet 'Sheet1' id:0>"
      ]
     },
     "execution_count": 7,
     "metadata": {},
     "output_type": "execute_result"
    }
   ],
   "source": [
    "N50 = Project.get_worksheet(0)\n",
    "N50"
   ]
  },
  {
   "cell_type": "code",
   "execution_count": 8,
   "id": "fc4865db",
   "metadata": {},
   "outputs": [],
   "source": [
    "data = pd.DataFrame(N50.get_all_records())"
   ]
  },
  {
   "cell_type": "markdown",
   "id": "fea3233e",
   "metadata": {},
   "source": [
    "Stock Prediction LSTM Model"
   ]
  },
  {
   "cell_type": "code",
   "execution_count": 9,
   "id": "693b87f8",
   "metadata": {},
   "outputs": [],
   "source": [
    "from sklearn.preprocessing import MinMaxScaler\n",
    "import tensorflow as tfl\n",
    "from tensorflow.keras.models import Sequential\n",
    "from tensorflow.keras.layers import Dense\n",
    "from tensorflow.keras.layers import LSTM"
   ]
  },
  {
   "cell_type": "code",
   "execution_count": 10,
   "id": "b7059d9d",
   "metadata": {},
   "outputs": [],
   "source": [
    "# def stockPredictionModel(Company_name, Number_of_share, Buying_date, Selling_date):\n",
    "#     df = pd.read_csv('Nifty50.csv')\n",
    "#     df.head()\n",
    "#     df[\"Date\"] = pd.to_datetime(df[\"Date\"])\n",
    "#     # name_of_stock = input(\"Enter Name Of Stock\")\n",
    "#     # number_of_share = int(input(\"Number Of Share\"))\n",
    "#     Y = df[df[\"Symbol\"]==Company_name][[\"Close\"]]\n",
    "#     # start_date = input(\"Start Date\")\n",
    "#     # end_date = input(\"End Date\")\n",
    "#     Buying_date = pd.to_datetime(Buying_date)\n",
    "#     Selling_date = pd.to_datetime(Selling_date)\n",
    "\n",
    "\n",
    "\n",
    "#     scaler=MinMaxScaler(feature_range=(0,1))\n",
    "#     Y=scaler.fit_transform(np.array(Y).reshape(-1,1))\n",
    "\n",
    "\n",
    "\n",
    "#     training_size=int(len(Y)*0.65)\n",
    "#     test_size=len(Y)-training_size\n",
    "#     train_data,test_data=Y[0:training_size,:],Y[training_size:len(Y),:1]\n",
    "\n",
    "\n",
    "#     # convert an array of values into a dataset matrix\n",
    "#     def create_dataset(dataset, time_step):\n",
    "#         dataX, dataY = [], []\n",
    "#         for i in range(len(dataset)-time_step-1):\n",
    "#             a = dataset[i:(i+time_step), 0]   ###i=0, 0,1,2,3-----99   100 \n",
    "#             dataX.append(a)\n",
    "#             dataY.append(dataset[i + time_step, 0])\n",
    "#         return np.array(dataX), np.array(dataY)\n",
    "\n",
    "\n",
    "#     time_step = 100\n",
    "#     X_train, y_train = create_dataset(train_data, time_step)\n",
    "#     X_test, ytest = create_dataset(test_data, time_step)\n",
    "\n",
    "\n",
    "#     X_train =X_train.reshape(X_train.shape[0],X_train.shape[1] , 1)\n",
    "#     X_test = X_test.reshape(X_test.shape[0],X_test.shape[1] , 1)\n",
    "\n",
    "#     ### Create the Stacked LSTM model\n",
    "#     model=Sequential()\n",
    "#     model.add(LSTM(50,return_sequences=True,input_shape=(100,1)))\n",
    "#     model.add(LSTM(50,return_sequences=True))\n",
    "#     model.add(LSTM(50))\n",
    "#     model.add(Dense(1))\n",
    "#     model.compile(loss='mean_squared_error',optimizer='adam')\n",
    "#     model.fit(X_train,y_train,validation_data=(X_test,ytest),epochs=5,batch_size=64,verbose=1)\n",
    "\n",
    "#     last_date = pd.to_datetime(\"2023-2-15\")\n",
    "#     lst_output_1=[]\n",
    "#     lst_output_2=[]\n",
    "\n",
    "#     diff_1 = Buying_date-last_date\n",
    "#     diff_2 = Selling_date-last_date\n",
    "#     if int(diff_1.days)>0:\n",
    "#         n_steps=100\n",
    "#         x_input=test_data[len(test_data)-n_steps:].reshape(1,-1)\n",
    "#         temp_input=list(x_input)\n",
    "#         temp_input=temp_input[0].tolist()\n",
    "#         i=0\n",
    "#         while(i<int(diff_1.days)):\n",
    "#             if(len(temp_input)>100):\n",
    "#                 #print(temp_input)\n",
    "#                 x_input=np.array(temp_input[1:])\n",
    "#     #                 print(\"{} day input {}\".format(i,x_input))\n",
    "#                 x_input=x_input.reshape(1,-1)\n",
    "#                 x_input = x_input.reshape((1, n_steps, 1))\n",
    "#                 #print(x_input)\n",
    "#                 yhat = model.predict(x_input, verbose=0)\n",
    "#     #                 print(\"{} day output {}\".format(i,yhat))\n",
    "#                 temp_input.extend(yhat[0].tolist())\n",
    "#                 temp_input=temp_input[1:]\n",
    "#                 #print(temp_input)\n",
    "#                 lst_output_1.extend(yhat.tolist())\n",
    "#                 i=i+1\n",
    "#             else:\n",
    "#                 x_input = x_input.reshape((1, n_steps,1))\n",
    "#                 yhat = model.predict(x_input, verbose=0)\n",
    "#     #                 print(yhat[0])\n",
    "#                 temp_input.extend(yhat[0].tolist())\n",
    "#     #                 print(len(temp_input))\n",
    "#                 lst_output_1.extend(yhat.tolist())\n",
    "#                 i=i+1\n",
    "\n",
    "\n",
    "            \n",
    "#     if int(diff_2.days)>0:\n",
    "#         n_steps=100\n",
    "#         x_input=test_data[len(test_data)-n_steps:].reshape(1,-1)\n",
    "#         temp_input=list(x_input)\n",
    "#         temp_input=temp_input[0].tolist()\n",
    "#         i=0\n",
    "#         while(i<int(diff_2.days)):\n",
    "#             if(len(temp_input)>100):\n",
    "#                 #print(temp_input)\n",
    "#                 x_input=np.array(temp_input[1:])\n",
    "#     #                 print(\"{} day input {}\".format(i,x_input))\n",
    "#                 x_input=x_input.reshape(1,-1)\n",
    "#                 x_input = x_input.reshape((1, n_steps, 1))\n",
    "#                 #print(x_input)\n",
    "#                 yhat = model.predict(x_input, verbose=0)\n",
    "#     #                 print(\"{} day output {}\".format(i,yhat))\n",
    "#                 temp_input.extend(yhat[0].tolist())\n",
    "#                 temp_input=temp_input[1:]\n",
    "#                 #print(temp_input)\n",
    "#                 lst_output_2.extend(yhat.tolist())\n",
    "#                 i=i+1\n",
    "#             else:\n",
    "#                 x_input = x_input.reshape((1, n_steps,1))\n",
    "#                 yhat = model.predict(x_input, verbose=0)\n",
    "#     #                 print(yhat[0])\n",
    "#                 temp_input.extend(yhat[0].tolist())\n",
    "#     #                 print(len(temp_input))\n",
    "#                 lst_output_2.extend(yhat.tolist())\n",
    "#                 i=i+1\n",
    "#     if int(diff_2.days)>0 and int(diff_1.days)>0:     \n",
    "#       invests = scaler.inverse_transform(lst_output_1)[-1]\n",
    "#       returns = scaler.inverse_transform(lst_output_2)[-1]\n",
    "#       Final_Amount = ((returns-invests)*(int(Number_of_share)))\n",
    "#     elif int(diff_2.days)>0 and int(diff_1.days)<0: \n",
    "#       invests = (df[(df['Symbol'] == Company_name) & (df['Date'] == Buying_date)]['Close'].values[0]).reshape(1,-1)\n",
    "#       invests= invests[-1] * (int(Number_of_share))\n",
    "#       returns = (scaler.inverse_transform(lst_output_2)[-1])* (int(Number_of_share))\n",
    "#       Final_Amount = (returns-invests)\n",
    "#     else:\n",
    "#       invests = (df[(df['Symbol'] == Company_name) & (df['Date'] == Buying_date)]['Close'].values[0]).reshape(1,-1)\n",
    "#       invests= invests[-1] * (int(Number_of_share))\n",
    "#       returns = (df[(df['Symbol'] == Company_name) & (df['Date'] == Selling_date)]['Close'].values[0]).reshape(1,-1)\n",
    "#       returns= returns[-1] * (int(Number_of_share))\n",
    "      \n",
    "#       Final_Amount = (returns-invests)\n",
    "\n",
    "\n",
    "#     # In[2]:\n",
    "\n",
    "#     if Final_Amount[0]>0:\n",
    "#         print(\"Profit: \" ,Final_Amount[0])\n",
    "#         N50.update('B9', Final_Amount[0])\n",
    "#         return Final_Amount[0]\n",
    "#     else:\n",
    "#         print(\"Loss: \" ,Final_Amount[0])\n",
    "#         N50.update('B9', Final_Amount[0])\n",
    "#         return Final_Amount[0]"
   ]
  },
  {
   "cell_type": "code",
   "execution_count": 11,
   "id": "01ca9444",
   "metadata": {},
   "outputs": [],
   "source": [
    "def stockPredictionModel(Company_name, Number_of_share, Buying_date, Selling_date):\n",
    "    df = pd.read_csv('Nifty50.csv')\n",
    "    df.head()\n",
    "    df[\"Date\"] = pd.to_datetime(df[\"Date\"])\n",
    "    # name_of_stock = input(\"Enter Name Of Stock\")\n",
    "    # number_of_share = int(input(\"Number Of Share\"))\n",
    "    Y = df[df[\"Symbol\"]==Company_name][[\"Close\"]]\n",
    "    # start_date = input(\"Start Date\")\n",
    "    # end_date = input(\"End Date\")\n",
    "    Buying_date = pd.to_datetime(Buying_date)\n",
    "    Selling_date = pd.to_datetime(Selling_date)\n",
    "\n",
    "\n",
    "\n",
    "    scaler=MinMaxScaler(feature_range=(0,1))\n",
    "    Y=scaler.fit_transform(np.array(Y).reshape(-1,1))\n",
    "\n",
    "\n",
    "\n",
    "    training_size=int(len(Y)*0.65)\n",
    "    test_size=len(Y)-training_size\n",
    "    train_data,test_data=Y[0:training_size,:],Y[training_size:len(Y),:1]\n",
    "\n",
    "\n",
    "    # convert an array of values into a dataset matrix\n",
    "    def create_dataset(dataset, time_step):\n",
    "        dataX, dataY = [], []\n",
    "        for i in range(len(dataset)-time_step-1):\n",
    "            a = dataset[i:(i+time_step), 0]   ###i=0, 0,1,2,3-----99   100 \n",
    "            dataX.append(a)\n",
    "            dataY.append(dataset[i + time_step, 0])\n",
    "        return np.array(dataX), np.array(dataY)\n",
    "\n",
    "\n",
    "    time_step = 100\n",
    "    X_train, y_train = create_dataset(train_data, time_step)\n",
    "    X_test, ytest = create_dataset(test_data, time_step)\n",
    "\n",
    "\n",
    "    X_train =X_train.reshape(X_train.shape[0],X_train.shape[1] , 1)\n",
    "    X_test = X_test.reshape(X_test.shape[0],X_test.shape[1] , 1)\n",
    "\n",
    "    ### Create the Stacked LSTM model\n",
    "    model=Sequential()\n",
    "    model.add(LSTM(50,return_sequences=True,input_shape=(100,1)))\n",
    "    model.add(LSTM(50,return_sequences=True))\n",
    "    model.add(LSTM(50))\n",
    "    model.add(Dense(1))\n",
    "    model.compile(loss='mean_squared_error',optimizer='adam')\n",
    "    model.fit(X_train,y_train,validation_data=(X_test,ytest),epochs=5,batch_size=64,verbose=1)\n",
    "\n",
    "    last_date = pd.to_datetime(\"2023-2-15\")\n",
    "    final_output_1=[]\n",
    "    final_output_2=[]\n",
    "\n",
    "    Buy_date = Buying_date-last_date\n",
    "    Sell_date = Selling_date-last_date\n",
    "    if int(Buy_date.days)>0:\n",
    "        n_steps=100\n",
    "        x_input=test_data[len(test_data)-n_steps:].reshape(1,-1)\n",
    "        temp_input=list(x_input)\n",
    "        temp_input=temp_input[0].tolist()\n",
    "        i=0\n",
    "        while(i<int(Buy_date.days)):\n",
    "            if(len(temp_input)>100):\n",
    "                #print(temp_input)\n",
    "                x_input=np.array(temp_input[1:])\n",
    "    #                 print(\"{} day input {}\".format(i,x_input))\n",
    "                x_input=x_input.reshape(1,-1)\n",
    "                x_input = x_input.reshape((1, n_steps, 1))\n",
    "                #print(x_input)\n",
    "                yhat = model.predict(x_input, verbose=0)\n",
    "    #                 print(\"{} day output {}\".format(i,yhat))\n",
    "                temp_input.extend(yhat[0].tolist())\n",
    "                temp_input=temp_input[1:]\n",
    "                #print(temp_input)\n",
    "                final_output_1.extend(yhat.tolist())\n",
    "                i=i+1\n",
    "            else:\n",
    "                x_input = x_input.reshape((1, n_steps,1))\n",
    "                yhat = model.predict(x_input, verbose=0)\n",
    "    #                 print(yhat[0])\n",
    "                temp_input.extend(yhat[0].tolist())\n",
    "    #                 print(len(temp_input))\n",
    "                final_output_1.extend(yhat.tolist())\n",
    "                i=i+1\n",
    "\n",
    "\n",
    "            \n",
    "    if int(Sell_date.days)>0:\n",
    "        n_steps=100\n",
    "        x_input=test_data[len(test_data)-n_steps:].reshape(1,-1)\n",
    "        temp_input=list(x_input)\n",
    "        temp_input=temp_input[0].tolist()\n",
    "        i=0\n",
    "        while(i<int(Sell_date.days)):\n",
    "            if(len(temp_input)>100):\n",
    "                #print(temp_input)\n",
    "                x_input=np.array(temp_input[1:])\n",
    "    #                 print(\"{} day input {}\".format(i,x_input))\n",
    "                x_input=x_input.reshape(1,-1)\n",
    "                x_input = x_input.reshape((1, n_steps, 1))\n",
    "                #print(x_input)\n",
    "                yhat = model.predict(x_input, verbose=0)\n",
    "    #                 print(\"{} day output {}\".format(i,yhat))\n",
    "                temp_input.extend(yhat[0].tolist())\n",
    "                temp_input=temp_input[1:]\n",
    "                #print(temp_input)\n",
    "                final_output_2.extend(yhat.tolist())\n",
    "                i=i+1\n",
    "            else:\n",
    "                x_input = x_input.reshape((1, n_steps,1))\n",
    "                yhat = model.predict(x_input, verbose=0)\n",
    "    #                 print(yhat[0])\n",
    "                temp_input.extend(yhat[0].tolist())\n",
    "    #                 print(len(temp_input))\n",
    "                final_output_2.extend(yhat.tolist())\n",
    "                i=i+1\n",
    "    if int(Sell_date.days)>0 and int(Buy_date.days)>0:     \n",
    "      invests = scaler.inverse_transform(final_output_1)[-1]\n",
    "      returns = scaler.inverse_transform(final_output_2)[-1]\n",
    "      Final_Amount = ((returns-invests)*(int(Number_of_share)))\n",
    "    elif int(Sell_date.days)>0 and int(Buy_date.days)<0: \n",
    "      invests = (df[(df['Symbol'] == Company_name) & (df['Date'] == Buying_date)]['Close'].values[0]).reshape(1,-1)\n",
    "      invests= invests[-1] * (int(Number_of_share))\n",
    "      returns = (scaler.inverse_transform(final_output_2)[-1])* (int(Number_of_share))\n",
    "      Final_Amount = (returns-invests)\n",
    "    else:\n",
    "      invests = (df[(df['Symbol'] == Company_name) & (df['Date'] == Buying_date)]['Close'].values[0]).reshape(1,-1)\n",
    "      invests= invests[-1] * (int(Number_of_share))\n",
    "      returns = (df[(df['Symbol'] == Company_name) & (df['Date'] == Selling_date)]['Close'].values[0]).reshape(1,-1)\n",
    "      returns= returns[-1] * (int(Number_of_share))\n",
    "      \n",
    "      Final_Amount = (returns-invests)\n",
    "\n",
    "\n",
    "    # In[2]:\n",
    "\n",
    "    if Final_Amount[0]>0:\n",
    "        print(\"Profit: \" ,Final_Amount[0])\n",
    "        N50.update('B9', Final_Amount[0])\n",
    "        return Final_Amount[0]\n",
    "    else:\n",
    "        print(\"Loss: \" ,Final_Amount[0])\n",
    "        N50.update('B9', Final_Amount[0])\n",
    "        return Final_Amount[0]"
   ]
  },
  {
   "cell_type": "code",
   "execution_count": 12,
   "id": "6001a556",
   "metadata": {},
   "outputs": [
    {
     "name": "stdout",
     "output_type": "stream",
     "text": [
      "Epoch 1/5\n",
      "9/9 [==============================] - 18s 764ms/step - loss: 0.0044 - val_loss: 0.0135\n",
      "Epoch 2/5\n",
      "9/9 [==============================] - 3s 393ms/step - loss: 8.2684e-04 - val_loss: 0.0083\n",
      "Epoch 3/5\n",
      "9/9 [==============================] - 3s 372ms/step - loss: 4.5224e-04 - val_loss: 0.0084\n",
      "Epoch 4/5\n",
      "9/9 [==============================] - 3s 370ms/step - loss: 3.3005e-04 - val_loss: 0.0084\n",
      "Epoch 5/5\n",
      "9/9 [==============================] - 3s 374ms/step - loss: 2.4895e-04 - val_loss: 0.0131\n",
      "Loss:  -695.9406667946564\n"
     ]
    },
    {
     "data": {
      "text/plain": [
       "-695.9406667946564"
      ]
     },
     "execution_count": 12,
     "metadata": {},
     "output_type": "execute_result"
    }
   ],
   "source": [
    "stockPredictionModel('ADANIENT',30,'2023-10-1', '2023-12-12')"
   ]
  },
  {
   "cell_type": "code",
   "execution_count": 14,
   "id": "a2e857cb",
   "metadata": {},
   "outputs": [
    {
     "name": "stdout",
     "output_type": "stream",
     "text": [
      "Epoch 1/5\n",
      "9/9 [==============================] - 17s 658ms/step - loss: 0.0456 - val_loss: 0.0107\n",
      "Epoch 2/5\n",
      "9/9 [==============================] - 3s 338ms/step - loss: 0.0093 - val_loss: 0.0039\n",
      "Epoch 3/5\n",
      "9/9 [==============================] - 3s 336ms/step - loss: 0.0041 - val_loss: 0.0029\n",
      "Epoch 4/5\n",
      "9/9 [==============================] - 3s 342ms/step - loss: 0.0020 - val_loss: 0.0114\n",
      "Epoch 5/5\n",
      "9/9 [==============================] - 3s 342ms/step - loss: 0.0015 - val_loss: 0.0035\n",
      "Profit:  4883.999639999999\n"
     ]
    },
    {
     "data": {
      "text/plain": [
       "4883.999639999999"
      ]
     },
     "execution_count": 14,
     "metadata": {},
     "output_type": "execute_result"
    }
   ],
   "source": [
    "stockPredictionModel('WIPRO', 30,'2020-2-25', '2022-11-30')"
   ]
  },
  {
   "cell_type": "code",
   "execution_count": 15,
   "id": "6b57c5c7",
   "metadata": {},
   "outputs": [
    {
     "name": "stdout",
     "output_type": "stream",
     "text": [
      "Epoch 1/5\n",
      "9/9 [==============================] - 19s 736ms/step - loss: 0.0659 - val_loss: 0.0430\n",
      "Epoch 2/5\n",
      "9/9 [==============================] - 3s 327ms/step - loss: 0.0129 - val_loss: 0.0113\n",
      "Epoch 3/5\n",
      "9/9 [==============================] - 3s 328ms/step - loss: 0.0048 - val_loss: 0.0096\n",
      "Epoch 4/5\n",
      "9/9 [==============================] - 3s 322ms/step - loss: 0.0020 - val_loss: 0.0103\n",
      "Epoch 5/5\n",
      "9/9 [==============================] - 3s 330ms/step - loss: 0.0016 - val_loss: 0.0043\n",
      "Loss:  -6988.716428521634\n"
     ]
    },
    {
     "data": {
      "text/plain": [
       "-6988.716428521634"
      ]
     },
     "execution_count": 15,
     "metadata": {},
     "output_type": "execute_result"
    }
   ],
   "source": [
    "stockPredictionModel('WIPRO', 30,'2023-1-31', '2025-12-1')"
   ]
  },
  {
   "cell_type": "code",
   "execution_count": 13,
   "id": "4cc4e4f7",
   "metadata": {},
   "outputs": [
    {
     "name": "stdout",
     "output_type": "stream",
     "text": [
      "Epoch 1/5\n",
      "9/9 [==============================] - 19s 799ms/step - loss: 0.0064 - val_loss: 0.0338\n",
      "Epoch 2/5\n",
      "9/9 [==============================] - 3s 364ms/step - loss: 0.0012 - val_loss: 0.0135\n",
      "Epoch 3/5\n",
      "9/9 [==============================] - 3s 378ms/step - loss: 4.2034e-04 - val_loss: 0.0113\n",
      "Epoch 4/5\n",
      "9/9 [==============================] - 3s 358ms/step - loss: 2.8396e-04 - val_loss: 0.0087\n",
      "Epoch 5/5\n",
      "9/9 [==============================] - 3s 352ms/step - loss: 2.5281e-04 - val_loss: 0.0128\n",
      "Loss:  -1665.9322897009133\n",
      "Epoch 1/5\n"
     ]
    },
    {
     "name": "stderr",
     "output_type": "stream",
     "text": [
      "Exception ignored in: <function WeakKeyDictionary.__init__.<locals>.remove at 0x0000020AB45A8940>\n",
      "Traceback (most recent call last):\n",
      "  File \"C:\\Users\\ashut\\Downloads\\anaconda\\lib\\weakref.py\", line 371, in remove\n",
      "    self = selfref()\n",
      "KeyboardInterrupt: \n"
     ]
    },
    {
     "name": "stdout",
     "output_type": "stream",
     "text": [
      "9/9 [==============================] - 19s 703ms/step - loss: 0.0090 - val_loss: 0.0225\n",
      "Epoch 2/5\n",
      "9/9 [==============================] - 3s 340ms/step - loss: 0.0013 - val_loss: 0.0452\n",
      "Epoch 3/5\n",
      "9/9 [==============================] - ETA: 0s - loss: 5.4704e-04"
     ]
    },
    {
     "ename": "KeyboardInterrupt",
     "evalue": "",
     "output_type": "error",
     "traceback": [
      "\u001b[1;31m---------------------------------------------------------------------------\u001b[0m",
      "\u001b[1;31mKeyboardInterrupt\u001b[0m                         Traceback (most recent call last)",
      "\u001b[1;32m~\\AppData\\Local\\Temp\\ipykernel_7840\\3228673660.py\u001b[0m in \u001b[0;36m<module>\u001b[1;34m\u001b[0m\n\u001b[0;32m      5\u001b[0m     \u001b[0mSelling_date\u001b[0m \u001b[1;33m=\u001b[0m \u001b[0mN50\u001b[0m\u001b[1;33m.\u001b[0m\u001b[0macell\u001b[0m\u001b[1;33m(\u001b[0m\u001b[1;34m'B7'\u001b[0m\u001b[1;33m)\u001b[0m\u001b[1;33m.\u001b[0m\u001b[0mvalue\u001b[0m\u001b[1;33m\u001b[0m\u001b[1;33m\u001b[0m\u001b[0m\n\u001b[0;32m      6\u001b[0m \u001b[1;33m\u001b[0m\u001b[0m\n\u001b[1;32m----> 7\u001b[1;33m     \u001b[0mstockPredictionModel\u001b[0m\u001b[1;33m(\u001b[0m\u001b[0mCompany_name\u001b[0m\u001b[1;33m,\u001b[0m \u001b[0mNumber_of_share\u001b[0m\u001b[1;33m,\u001b[0m \u001b[0mBuying_date\u001b[0m\u001b[1;33m,\u001b[0m \u001b[0mSelling_date\u001b[0m\u001b[1;33m)\u001b[0m\u001b[1;33m\u001b[0m\u001b[1;33m\u001b[0m\u001b[0m\n\u001b[0m\u001b[0;32m      8\u001b[0m     \u001b[0mtime\u001b[0m\u001b[1;33m.\u001b[0m\u001b[0msleep\u001b[0m\u001b[1;33m(\u001b[0m\u001b[1;36m5\u001b[0m\u001b[1;33m)\u001b[0m\u001b[1;33m\u001b[0m\u001b[1;33m\u001b[0m\u001b[0m\n",
      "\u001b[1;32m~\\AppData\\Local\\Temp\\ipykernel_7840\\199231053.py\u001b[0m in \u001b[0;36mstockPredictionModel\u001b[1;34m(Company_name, Number_of_share, Buying_date, Selling_date)\u001b[0m\n\u001b[0;32m     48\u001b[0m     \u001b[0mmodel\u001b[0m\u001b[1;33m.\u001b[0m\u001b[0madd\u001b[0m\u001b[1;33m(\u001b[0m\u001b[0mDense\u001b[0m\u001b[1;33m(\u001b[0m\u001b[1;36m1\u001b[0m\u001b[1;33m)\u001b[0m\u001b[1;33m)\u001b[0m\u001b[1;33m\u001b[0m\u001b[1;33m\u001b[0m\u001b[0m\n\u001b[0;32m     49\u001b[0m     \u001b[0mmodel\u001b[0m\u001b[1;33m.\u001b[0m\u001b[0mcompile\u001b[0m\u001b[1;33m(\u001b[0m\u001b[0mloss\u001b[0m\u001b[1;33m=\u001b[0m\u001b[1;34m'mean_squared_error'\u001b[0m\u001b[1;33m,\u001b[0m\u001b[0moptimizer\u001b[0m\u001b[1;33m=\u001b[0m\u001b[1;34m'adam'\u001b[0m\u001b[1;33m)\u001b[0m\u001b[1;33m\u001b[0m\u001b[1;33m\u001b[0m\u001b[0m\n\u001b[1;32m---> 50\u001b[1;33m     \u001b[0mmodel\u001b[0m\u001b[1;33m.\u001b[0m\u001b[0mfit\u001b[0m\u001b[1;33m(\u001b[0m\u001b[0mX_train\u001b[0m\u001b[1;33m,\u001b[0m\u001b[0my_train\u001b[0m\u001b[1;33m,\u001b[0m\u001b[0mvalidation_data\u001b[0m\u001b[1;33m=\u001b[0m\u001b[1;33m(\u001b[0m\u001b[0mX_test\u001b[0m\u001b[1;33m,\u001b[0m\u001b[0mytest\u001b[0m\u001b[1;33m)\u001b[0m\u001b[1;33m,\u001b[0m\u001b[0mepochs\u001b[0m\u001b[1;33m=\u001b[0m\u001b[1;36m5\u001b[0m\u001b[1;33m,\u001b[0m\u001b[0mbatch_size\u001b[0m\u001b[1;33m=\u001b[0m\u001b[1;36m64\u001b[0m\u001b[1;33m,\u001b[0m\u001b[0mverbose\u001b[0m\u001b[1;33m=\u001b[0m\u001b[1;36m1\u001b[0m\u001b[1;33m)\u001b[0m\u001b[1;33m\u001b[0m\u001b[1;33m\u001b[0m\u001b[0m\n\u001b[0m\u001b[0;32m     51\u001b[0m \u001b[1;33m\u001b[0m\u001b[0m\n\u001b[0;32m     52\u001b[0m     \u001b[0mlast_date\u001b[0m \u001b[1;33m=\u001b[0m \u001b[0mpd\u001b[0m\u001b[1;33m.\u001b[0m\u001b[0mto_datetime\u001b[0m\u001b[1;33m(\u001b[0m\u001b[1;34m\"2023-2-15\"\u001b[0m\u001b[1;33m)\u001b[0m\u001b[1;33m\u001b[0m\u001b[1;33m\u001b[0m\u001b[0m\n",
      "\u001b[1;32m~\\Downloads\\anaconda\\lib\\site-packages\\keras\\utils\\traceback_utils.py\u001b[0m in \u001b[0;36merror_handler\u001b[1;34m(*args, **kwargs)\u001b[0m\n\u001b[0;32m     63\u001b[0m         \u001b[0mfiltered_tb\u001b[0m \u001b[1;33m=\u001b[0m \u001b[1;32mNone\u001b[0m\u001b[1;33m\u001b[0m\u001b[1;33m\u001b[0m\u001b[0m\n\u001b[0;32m     64\u001b[0m         \u001b[1;32mtry\u001b[0m\u001b[1;33m:\u001b[0m\u001b[1;33m\u001b[0m\u001b[1;33m\u001b[0m\u001b[0m\n\u001b[1;32m---> 65\u001b[1;33m             \u001b[1;32mreturn\u001b[0m \u001b[0mfn\u001b[0m\u001b[1;33m(\u001b[0m\u001b[1;33m*\u001b[0m\u001b[0margs\u001b[0m\u001b[1;33m,\u001b[0m \u001b[1;33m**\u001b[0m\u001b[0mkwargs\u001b[0m\u001b[1;33m)\u001b[0m\u001b[1;33m\u001b[0m\u001b[1;33m\u001b[0m\u001b[0m\n\u001b[0m\u001b[0;32m     66\u001b[0m         \u001b[1;32mexcept\u001b[0m \u001b[0mException\u001b[0m \u001b[1;32mas\u001b[0m \u001b[0me\u001b[0m\u001b[1;33m:\u001b[0m\u001b[1;33m\u001b[0m\u001b[1;33m\u001b[0m\u001b[0m\n\u001b[0;32m     67\u001b[0m             \u001b[0mfiltered_tb\u001b[0m \u001b[1;33m=\u001b[0m \u001b[0m_process_traceback_frames\u001b[0m\u001b[1;33m(\u001b[0m\u001b[0me\u001b[0m\u001b[1;33m.\u001b[0m\u001b[0m__traceback__\u001b[0m\u001b[1;33m)\u001b[0m\u001b[1;33m\u001b[0m\u001b[1;33m\u001b[0m\u001b[0m\n",
      "\u001b[1;32m~\\Downloads\\anaconda\\lib\\site-packages\\keras\\engine\\training.py\u001b[0m in \u001b[0;36mfit\u001b[1;34m(self, x, y, batch_size, epochs, verbose, callbacks, validation_split, validation_data, shuffle, class_weight, sample_weight, initial_epoch, steps_per_epoch, validation_steps, validation_batch_size, validation_freq, max_queue_size, workers, use_multiprocessing)\u001b[0m\n\u001b[0;32m   1692\u001b[0m                             \u001b[0msteps_per_execution\u001b[0m\u001b[1;33m=\u001b[0m\u001b[0mself\u001b[0m\u001b[1;33m.\u001b[0m\u001b[0m_steps_per_execution\u001b[0m\u001b[1;33m,\u001b[0m\u001b[1;33m\u001b[0m\u001b[1;33m\u001b[0m\u001b[0m\n\u001b[0;32m   1693\u001b[0m                         )\n\u001b[1;32m-> 1694\u001b[1;33m                     val_logs = self.evaluate(\n\u001b[0m\u001b[0;32m   1695\u001b[0m                         \u001b[0mx\u001b[0m\u001b[1;33m=\u001b[0m\u001b[0mval_x\u001b[0m\u001b[1;33m,\u001b[0m\u001b[1;33m\u001b[0m\u001b[1;33m\u001b[0m\u001b[0m\n\u001b[0;32m   1696\u001b[0m                         \u001b[0my\u001b[0m\u001b[1;33m=\u001b[0m\u001b[0mval_y\u001b[0m\u001b[1;33m,\u001b[0m\u001b[1;33m\u001b[0m\u001b[1;33m\u001b[0m\u001b[0m\n",
      "\u001b[1;32m~\\Downloads\\anaconda\\lib\\site-packages\\keras\\utils\\traceback_utils.py\u001b[0m in \u001b[0;36merror_handler\u001b[1;34m(*args, **kwargs)\u001b[0m\n\u001b[0;32m     63\u001b[0m         \u001b[0mfiltered_tb\u001b[0m \u001b[1;33m=\u001b[0m \u001b[1;32mNone\u001b[0m\u001b[1;33m\u001b[0m\u001b[1;33m\u001b[0m\u001b[0m\n\u001b[0;32m     64\u001b[0m         \u001b[1;32mtry\u001b[0m\u001b[1;33m:\u001b[0m\u001b[1;33m\u001b[0m\u001b[1;33m\u001b[0m\u001b[0m\n\u001b[1;32m---> 65\u001b[1;33m             \u001b[1;32mreturn\u001b[0m \u001b[0mfn\u001b[0m\u001b[1;33m(\u001b[0m\u001b[1;33m*\u001b[0m\u001b[0margs\u001b[0m\u001b[1;33m,\u001b[0m \u001b[1;33m**\u001b[0m\u001b[0mkwargs\u001b[0m\u001b[1;33m)\u001b[0m\u001b[1;33m\u001b[0m\u001b[1;33m\u001b[0m\u001b[0m\n\u001b[0m\u001b[0;32m     66\u001b[0m         \u001b[1;32mexcept\u001b[0m \u001b[0mException\u001b[0m \u001b[1;32mas\u001b[0m \u001b[0me\u001b[0m\u001b[1;33m:\u001b[0m\u001b[1;33m\u001b[0m\u001b[1;33m\u001b[0m\u001b[0m\n\u001b[0;32m     67\u001b[0m             \u001b[0mfiltered_tb\u001b[0m \u001b[1;33m=\u001b[0m \u001b[0m_process_traceback_frames\u001b[0m\u001b[1;33m(\u001b[0m\u001b[0me\u001b[0m\u001b[1;33m.\u001b[0m\u001b[0m__traceback__\u001b[0m\u001b[1;33m)\u001b[0m\u001b[1;33m\u001b[0m\u001b[1;33m\u001b[0m\u001b[0m\n",
      "\u001b[1;32m~\\Downloads\\anaconda\\lib\\site-packages\\keras\\engine\\training.py\u001b[0m in \u001b[0;36mevaluate\u001b[1;34m(self, x, y, batch_size, verbose, sample_weight, steps, callbacks, max_queue_size, workers, use_multiprocessing, return_dict, **kwargs)\u001b[0m\n\u001b[0;32m   2038\u001b[0m                         ):\n\u001b[0;32m   2039\u001b[0m                             \u001b[0mcallbacks\u001b[0m\u001b[1;33m.\u001b[0m\u001b[0mon_test_batch_begin\u001b[0m\u001b[1;33m(\u001b[0m\u001b[0mstep\u001b[0m\u001b[1;33m)\u001b[0m\u001b[1;33m\u001b[0m\u001b[1;33m\u001b[0m\u001b[0m\n\u001b[1;32m-> 2040\u001b[1;33m                             \u001b[0mtmp_logs\u001b[0m \u001b[1;33m=\u001b[0m \u001b[0mself\u001b[0m\u001b[1;33m.\u001b[0m\u001b[0mtest_function\u001b[0m\u001b[1;33m(\u001b[0m\u001b[0miterator\u001b[0m\u001b[1;33m)\u001b[0m\u001b[1;33m\u001b[0m\u001b[1;33m\u001b[0m\u001b[0m\n\u001b[0m\u001b[0;32m   2041\u001b[0m                             \u001b[1;32mif\u001b[0m \u001b[0mdata_handler\u001b[0m\u001b[1;33m.\u001b[0m\u001b[0mshould_sync\u001b[0m\u001b[1;33m:\u001b[0m\u001b[1;33m\u001b[0m\u001b[1;33m\u001b[0m\u001b[0m\n\u001b[0;32m   2042\u001b[0m                                 \u001b[0mcontext\u001b[0m\u001b[1;33m.\u001b[0m\u001b[0masync_wait\u001b[0m\u001b[1;33m(\u001b[0m\u001b[1;33m)\u001b[0m\u001b[1;33m\u001b[0m\u001b[1;33m\u001b[0m\u001b[0m\n",
      "\u001b[1;32m~\\Downloads\\anaconda\\lib\\site-packages\\tensorflow\\python\\util\\traceback_utils.py\u001b[0m in \u001b[0;36merror_handler\u001b[1;34m(*args, **kwargs)\u001b[0m\n\u001b[0;32m    148\u001b[0m     \u001b[0mfiltered_tb\u001b[0m \u001b[1;33m=\u001b[0m \u001b[1;32mNone\u001b[0m\u001b[1;33m\u001b[0m\u001b[1;33m\u001b[0m\u001b[0m\n\u001b[0;32m    149\u001b[0m     \u001b[1;32mtry\u001b[0m\u001b[1;33m:\u001b[0m\u001b[1;33m\u001b[0m\u001b[1;33m\u001b[0m\u001b[0m\n\u001b[1;32m--> 150\u001b[1;33m       \u001b[1;32mreturn\u001b[0m \u001b[0mfn\u001b[0m\u001b[1;33m(\u001b[0m\u001b[1;33m*\u001b[0m\u001b[0margs\u001b[0m\u001b[1;33m,\u001b[0m \u001b[1;33m**\u001b[0m\u001b[0mkwargs\u001b[0m\u001b[1;33m)\u001b[0m\u001b[1;33m\u001b[0m\u001b[1;33m\u001b[0m\u001b[0m\n\u001b[0m\u001b[0;32m    151\u001b[0m     \u001b[1;32mexcept\u001b[0m \u001b[0mException\u001b[0m \u001b[1;32mas\u001b[0m \u001b[0me\u001b[0m\u001b[1;33m:\u001b[0m\u001b[1;33m\u001b[0m\u001b[1;33m\u001b[0m\u001b[0m\n\u001b[0;32m    152\u001b[0m       \u001b[0mfiltered_tb\u001b[0m \u001b[1;33m=\u001b[0m \u001b[0m_process_traceback_frames\u001b[0m\u001b[1;33m(\u001b[0m\u001b[0me\u001b[0m\u001b[1;33m.\u001b[0m\u001b[0m__traceback__\u001b[0m\u001b[1;33m)\u001b[0m\u001b[1;33m\u001b[0m\u001b[1;33m\u001b[0m\u001b[0m\n",
      "\u001b[1;32m~\\Downloads\\anaconda\\lib\\site-packages\\tensorflow\\python\\eager\\polymorphic_function\\polymorphic_function.py\u001b[0m in \u001b[0;36m__call__\u001b[1;34m(self, *args, **kwds)\u001b[0m\n\u001b[0;32m    878\u001b[0m \u001b[1;33m\u001b[0m\u001b[0m\n\u001b[0;32m    879\u001b[0m       \u001b[1;32mwith\u001b[0m \u001b[0mOptionalXlaContext\u001b[0m\u001b[1;33m(\u001b[0m\u001b[0mself\u001b[0m\u001b[1;33m.\u001b[0m\u001b[0m_jit_compile\u001b[0m\u001b[1;33m)\u001b[0m\u001b[1;33m:\u001b[0m\u001b[1;33m\u001b[0m\u001b[1;33m\u001b[0m\u001b[0m\n\u001b[1;32m--> 880\u001b[1;33m         \u001b[0mresult\u001b[0m \u001b[1;33m=\u001b[0m \u001b[0mself\u001b[0m\u001b[1;33m.\u001b[0m\u001b[0m_call\u001b[0m\u001b[1;33m(\u001b[0m\u001b[1;33m*\u001b[0m\u001b[0margs\u001b[0m\u001b[1;33m,\u001b[0m \u001b[1;33m**\u001b[0m\u001b[0mkwds\u001b[0m\u001b[1;33m)\u001b[0m\u001b[1;33m\u001b[0m\u001b[1;33m\u001b[0m\u001b[0m\n\u001b[0m\u001b[0;32m    881\u001b[0m \u001b[1;33m\u001b[0m\u001b[0m\n\u001b[0;32m    882\u001b[0m       \u001b[0mnew_tracing_count\u001b[0m \u001b[1;33m=\u001b[0m \u001b[0mself\u001b[0m\u001b[1;33m.\u001b[0m\u001b[0mexperimental_get_tracing_count\u001b[0m\u001b[1;33m(\u001b[0m\u001b[1;33m)\u001b[0m\u001b[1;33m\u001b[0m\u001b[1;33m\u001b[0m\u001b[0m\n",
      "\u001b[1;32m~\\Downloads\\anaconda\\lib\\site-packages\\tensorflow\\python\\eager\\polymorphic_function\\polymorphic_function.py\u001b[0m in \u001b[0;36m_call\u001b[1;34m(self, *args, **kwds)\u001b[0m\n\u001b[0;32m    917\u001b[0m       \u001b[1;31m# In this case we have not created variables on the first call. So we can\u001b[0m\u001b[1;33m\u001b[0m\u001b[1;33m\u001b[0m\u001b[0m\n\u001b[0;32m    918\u001b[0m       \u001b[1;31m# run the first trace but we should fail if variables are created.\u001b[0m\u001b[1;33m\u001b[0m\u001b[1;33m\u001b[0m\u001b[0m\n\u001b[1;32m--> 919\u001b[1;33m       \u001b[0mresults\u001b[0m \u001b[1;33m=\u001b[0m \u001b[0mself\u001b[0m\u001b[1;33m.\u001b[0m\u001b[0m_variable_creation_fn\u001b[0m\u001b[1;33m(\u001b[0m\u001b[1;33m*\u001b[0m\u001b[0margs\u001b[0m\u001b[1;33m,\u001b[0m \u001b[1;33m**\u001b[0m\u001b[0mkwds\u001b[0m\u001b[1;33m)\u001b[0m\u001b[1;33m\u001b[0m\u001b[1;33m\u001b[0m\u001b[0m\n\u001b[0m\u001b[0;32m    920\u001b[0m       \u001b[1;32mif\u001b[0m \u001b[0mself\u001b[0m\u001b[1;33m.\u001b[0m\u001b[0m_created_variables\u001b[0m \u001b[1;32mand\u001b[0m \u001b[1;32mnot\u001b[0m \u001b[0mALLOW_DYNAMIC_VARIABLE_CREATION\u001b[0m\u001b[1;33m:\u001b[0m\u001b[1;33m\u001b[0m\u001b[1;33m\u001b[0m\u001b[0m\n\u001b[0;32m    921\u001b[0m         raise ValueError(\"Creating variables on a non-first call to a function\"\n",
      "\u001b[1;32m~\\Downloads\\anaconda\\lib\\site-packages\\tensorflow\\python\\eager\\polymorphic_function\\tracing_compiler.py\u001b[0m in \u001b[0;36m__call__\u001b[1;34m(self, *args, **kwargs)\u001b[0m\n\u001b[0;32m    132\u001b[0m       (concrete_function,\n\u001b[0;32m    133\u001b[0m        filtered_flat_args) = self._maybe_define_function(args, kwargs)\n\u001b[1;32m--> 134\u001b[1;33m     return concrete_function._call_flat(\n\u001b[0m\u001b[0;32m    135\u001b[0m         filtered_flat_args, captured_inputs=concrete_function.captured_inputs)  # pylint: disable=protected-access\n\u001b[0;32m    136\u001b[0m \u001b[1;33m\u001b[0m\u001b[0m\n",
      "\u001b[1;32m~\\Downloads\\anaconda\\lib\\site-packages\\tensorflow\\python\\eager\\polymorphic_function\\monomorphic_function.py\u001b[0m in \u001b[0;36m_call_flat\u001b[1;34m(self, args, captured_inputs, cancellation_manager)\u001b[0m\n\u001b[0;32m   1743\u001b[0m         and executing_eagerly):\n\u001b[0;32m   1744\u001b[0m       \u001b[1;31m# No tape is watching; skip to running the function.\u001b[0m\u001b[1;33m\u001b[0m\u001b[1;33m\u001b[0m\u001b[0m\n\u001b[1;32m-> 1745\u001b[1;33m       return self._build_call_outputs(self._inference_function.call(\n\u001b[0m\u001b[0;32m   1746\u001b[0m           ctx, args, cancellation_manager=cancellation_manager))\n\u001b[0;32m   1747\u001b[0m     forward_backward = self._select_forward_and_backward_functions(\n",
      "\u001b[1;32m~\\Downloads\\anaconda\\lib\\site-packages\\tensorflow\\python\\eager\\polymorphic_function\\monomorphic_function.py\u001b[0m in \u001b[0;36mcall\u001b[1;34m(self, ctx, args, cancellation_manager)\u001b[0m\n\u001b[0;32m    376\u001b[0m       \u001b[1;32mwith\u001b[0m \u001b[0m_InterpolateFunctionError\u001b[0m\u001b[1;33m(\u001b[0m\u001b[0mself\u001b[0m\u001b[1;33m)\u001b[0m\u001b[1;33m:\u001b[0m\u001b[1;33m\u001b[0m\u001b[1;33m\u001b[0m\u001b[0m\n\u001b[0;32m    377\u001b[0m         \u001b[1;32mif\u001b[0m \u001b[0mcancellation_manager\u001b[0m \u001b[1;32mis\u001b[0m \u001b[1;32mNone\u001b[0m\u001b[1;33m:\u001b[0m\u001b[1;33m\u001b[0m\u001b[1;33m\u001b[0m\u001b[0m\n\u001b[1;32m--> 378\u001b[1;33m           outputs = execute.execute(\n\u001b[0m\u001b[0;32m    379\u001b[0m               \u001b[0mstr\u001b[0m\u001b[1;33m(\u001b[0m\u001b[0mself\u001b[0m\u001b[1;33m.\u001b[0m\u001b[0msignature\u001b[0m\u001b[1;33m.\u001b[0m\u001b[0mname\u001b[0m\u001b[1;33m)\u001b[0m\u001b[1;33m,\u001b[0m\u001b[1;33m\u001b[0m\u001b[1;33m\u001b[0m\u001b[0m\n\u001b[0;32m    380\u001b[0m               \u001b[0mnum_outputs\u001b[0m\u001b[1;33m=\u001b[0m\u001b[0mself\u001b[0m\u001b[1;33m.\u001b[0m\u001b[0m_num_outputs\u001b[0m\u001b[1;33m,\u001b[0m\u001b[1;33m\u001b[0m\u001b[1;33m\u001b[0m\u001b[0m\n",
      "\u001b[1;32m~\\Downloads\\anaconda\\lib\\site-packages\\tensorflow\\python\\eager\\execute.py\u001b[0m in \u001b[0;36mquick_execute\u001b[1;34m(op_name, num_outputs, inputs, attrs, ctx, name)\u001b[0m\n\u001b[0;32m     50\u001b[0m   \u001b[1;32mtry\u001b[0m\u001b[1;33m:\u001b[0m\u001b[1;33m\u001b[0m\u001b[1;33m\u001b[0m\u001b[0m\n\u001b[0;32m     51\u001b[0m     \u001b[0mctx\u001b[0m\u001b[1;33m.\u001b[0m\u001b[0mensure_initialized\u001b[0m\u001b[1;33m(\u001b[0m\u001b[1;33m)\u001b[0m\u001b[1;33m\u001b[0m\u001b[1;33m\u001b[0m\u001b[0m\n\u001b[1;32m---> 52\u001b[1;33m     tensors = pywrap_tfe.TFE_Py_Execute(ctx._handle, device_name, op_name,\n\u001b[0m\u001b[0;32m     53\u001b[0m                                         inputs, attrs, num_outputs)\n\u001b[0;32m     54\u001b[0m   \u001b[1;32mexcept\u001b[0m \u001b[0mcore\u001b[0m\u001b[1;33m.\u001b[0m\u001b[0m_NotOkStatusException\u001b[0m \u001b[1;32mas\u001b[0m \u001b[0me\u001b[0m\u001b[1;33m:\u001b[0m\u001b[1;33m\u001b[0m\u001b[1;33m\u001b[0m\u001b[0m\n",
      "\u001b[1;31mKeyboardInterrupt\u001b[0m: "
     ]
    }
   ],
   "source": [
    "while(True):\n",
    "    Company_name = N50.acell('B4').value\n",
    "    Number_of_share = N50.acell('B5').value\n",
    "    Buying_date = N50.acell('B6').value\n",
    "    Selling_date = N50.acell('B7').value\n",
    "\n",
    "    stockPredictionModel(Company_name, Number_of_share, Buying_date, Selling_date)\n",
    "    time.sleep(5)\n"
   ]
  },
  {
   "cell_type": "code",
   "execution_count": null,
   "id": "deddab77",
   "metadata": {},
   "outputs": [],
   "source": []
  }
 ],
 "metadata": {
  "kernelspec": {
   "display_name": "Python 3 (ipykernel)",
   "language": "python",
   "name": "python3"
  },
  "language_info": {
   "codemirror_mode": {
    "name": "ipython",
    "version": 3
   },
   "file_extension": ".py",
   "mimetype": "text/x-python",
   "name": "python",
   "nbconvert_exporter": "python",
   "pygments_lexer": "ipython3",
   "version": "3.9.13"
  }
 },
 "nbformat": 4,
 "nbformat_minor": 5
}
